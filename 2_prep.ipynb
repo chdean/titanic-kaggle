{
 "cells": [
  {
   "cell_type": "code",
   "execution_count": 2,
   "id": "e95247fd-e7a2-41b8-ae2d-47e0bde98492",
   "metadata": {
    "execution": {
     "iopub.execute_input": "2023-06-17T16:35:22.205420Z",
     "iopub.status.busy": "2023-06-17T16:35:22.205062Z",
     "iopub.status.idle": "2023-06-17T16:35:23.351699Z",
     "shell.execute_reply": "2023-06-17T16:35:23.350760Z",
     "shell.execute_reply.started": "2023-06-17T16:35:22.205395Z"
    }
   },
   "outputs": [],
   "source": [
    "import numpy as np\n",
    "import pandas as pd\n",
    "import matplotlib.pyplot as plt\n",
    "%matplotlib inline"
   ]
  },
  {
   "cell_type": "code",
   "execution_count": 3,
   "id": "167acf10-d5e0-4b7a-a503-e10798d85a69",
   "metadata": {
    "execution": {
     "iopub.execute_input": "2023-06-17T16:35:23.354441Z",
     "iopub.status.busy": "2023-06-17T16:35:23.353971Z",
     "iopub.status.idle": "2023-06-17T16:35:23.393452Z",
     "shell.execute_reply": "2023-06-17T16:35:23.392071Z",
     "shell.execute_reply.started": "2023-06-17T16:35:23.354414Z"
    }
   },
   "outputs": [
    {
     "data": {
      "text/html": [
       "<div>\n",
       "<style scoped>\n",
       "    .dataframe tbody tr th:only-of-type {\n",
       "        vertical-align: middle;\n",
       "    }\n",
       "\n",
       "    .dataframe tbody tr th {\n",
       "        vertical-align: top;\n",
       "    }\n",
       "\n",
       "    .dataframe thead th {\n",
       "        text-align: right;\n",
       "    }\n",
       "</style>\n",
       "<table border=\"1\" class=\"dataframe\">\n",
       "  <thead>\n",
       "    <tr style=\"text-align: right;\">\n",
       "      <th></th>\n",
       "      <th>PassengerId</th>\n",
       "      <th>Survived</th>\n",
       "      <th>Pclass</th>\n",
       "      <th>Name</th>\n",
       "      <th>Sex</th>\n",
       "      <th>Age</th>\n",
       "      <th>SibSp</th>\n",
       "      <th>Parch</th>\n",
       "      <th>Ticket</th>\n",
       "      <th>Fare</th>\n",
       "      <th>Cabin</th>\n",
       "      <th>Embarked</th>\n",
       "    </tr>\n",
       "  </thead>\n",
       "  <tbody>\n",
       "    <tr>\n",
       "      <th>0</th>\n",
       "      <td>1</td>\n",
       "      <td>0</td>\n",
       "      <td>3</td>\n",
       "      <td>Braund, Mr. Owen Harris</td>\n",
       "      <td>male</td>\n",
       "      <td>22.0</td>\n",
       "      <td>1</td>\n",
       "      <td>0</td>\n",
       "      <td>A/5 21171</td>\n",
       "      <td>7.2500</td>\n",
       "      <td>NaN</td>\n",
       "      <td>S</td>\n",
       "    </tr>\n",
       "    <tr>\n",
       "      <th>1</th>\n",
       "      <td>2</td>\n",
       "      <td>1</td>\n",
       "      <td>1</td>\n",
       "      <td>Cumings, Mrs. John Bradley (Florence Briggs Th...</td>\n",
       "      <td>female</td>\n",
       "      <td>38.0</td>\n",
       "      <td>1</td>\n",
       "      <td>0</td>\n",
       "      <td>PC 17599</td>\n",
       "      <td>71.2833</td>\n",
       "      <td>C85</td>\n",
       "      <td>C</td>\n",
       "    </tr>\n",
       "    <tr>\n",
       "      <th>2</th>\n",
       "      <td>3</td>\n",
       "      <td>1</td>\n",
       "      <td>3</td>\n",
       "      <td>Heikkinen, Miss. Laina</td>\n",
       "      <td>female</td>\n",
       "      <td>26.0</td>\n",
       "      <td>0</td>\n",
       "      <td>0</td>\n",
       "      <td>STON/O2. 3101282</td>\n",
       "      <td>7.9250</td>\n",
       "      <td>NaN</td>\n",
       "      <td>S</td>\n",
       "    </tr>\n",
       "    <tr>\n",
       "      <th>3</th>\n",
       "      <td>4</td>\n",
       "      <td>1</td>\n",
       "      <td>1</td>\n",
       "      <td>Futrelle, Mrs. Jacques Heath (Lily May Peel)</td>\n",
       "      <td>female</td>\n",
       "      <td>35.0</td>\n",
       "      <td>1</td>\n",
       "      <td>0</td>\n",
       "      <td>113803</td>\n",
       "      <td>53.1000</td>\n",
       "      <td>C123</td>\n",
       "      <td>S</td>\n",
       "    </tr>\n",
       "    <tr>\n",
       "      <th>4</th>\n",
       "      <td>5</td>\n",
       "      <td>0</td>\n",
       "      <td>3</td>\n",
       "      <td>Allen, Mr. William Henry</td>\n",
       "      <td>male</td>\n",
       "      <td>35.0</td>\n",
       "      <td>0</td>\n",
       "      <td>0</td>\n",
       "      <td>373450</td>\n",
       "      <td>8.0500</td>\n",
       "      <td>NaN</td>\n",
       "      <td>S</td>\n",
       "    </tr>\n",
       "  </tbody>\n",
       "</table>\n",
       "</div>"
      ],
      "text/plain": [
       "   PassengerId  Survived  Pclass  \\\n",
       "0            1         0       3   \n",
       "1            2         1       1   \n",
       "2            3         1       3   \n",
       "3            4         1       1   \n",
       "4            5         0       3   \n",
       "\n",
       "                                                Name     Sex   Age  SibSp  \\\n",
       "0                            Braund, Mr. Owen Harris    male  22.0      1   \n",
       "1  Cumings, Mrs. John Bradley (Florence Briggs Th...  female  38.0      1   \n",
       "2                             Heikkinen, Miss. Laina  female  26.0      0   \n",
       "3       Futrelle, Mrs. Jacques Heath (Lily May Peel)  female  35.0      1   \n",
       "4                           Allen, Mr. William Henry    male  35.0      0   \n",
       "\n",
       "   Parch            Ticket     Fare Cabin Embarked  \n",
       "0      0         A/5 21171   7.2500   NaN        S  \n",
       "1      0          PC 17599  71.2833   C85        C  \n",
       "2      0  STON/O2. 3101282   7.9250   NaN        S  \n",
       "3      0            113803  53.1000  C123        S  \n",
       "4      0            373450   8.0500   NaN        S  "
      ]
     },
     "execution_count": 3,
     "metadata": {},
     "output_type": "execute_result"
    }
   ],
   "source": [
    "df = pd.read_csv('train.csv')\n",
    "df.head()"
   ]
  },
  {
   "cell_type": "markdown",
   "id": "06fd16df-ef4f-4f19-bd4a-78cedf91f834",
   "metadata": {},
   "source": [
    "## Last Names"
   ]
  },
  {
   "cell_type": "code",
   "execution_count": 4,
   "id": "c375a050-823b-4bc4-b0c4-bd8b93dfcda1",
   "metadata": {
    "execution": {
     "iopub.execute_input": "2023-06-17T16:35:23.395678Z",
     "iopub.status.busy": "2023-06-17T16:35:23.395228Z",
     "iopub.status.idle": "2023-06-17T16:35:23.404893Z",
     "shell.execute_reply": "2023-06-17T16:35:23.404078Z",
     "shell.execute_reply.started": "2023-06-17T16:35:23.395595Z"
    }
   },
   "outputs": [
    {
     "data": {
      "text/plain": [
       "0                                Braund, Mr. Owen Harris\n",
       "1      Cumings, Mrs. John Bradley (Florence Briggs Th...\n",
       "2                                 Heikkinen, Miss. Laina\n",
       "3           Futrelle, Mrs. Jacques Heath (Lily May Peel)\n",
       "4                               Allen, Mr. William Henry\n",
       "                             ...                        \n",
       "886                                Montvila, Rev. Juozas\n",
       "887                         Graham, Miss. Margaret Edith\n",
       "888             Johnston, Miss. Catherine Helen \"Carrie\"\n",
       "889                                Behr, Mr. Karl Howell\n",
       "890                                  Dooley, Mr. Patrick\n",
       "Name: Name, Length: 891, dtype: object"
      ]
     },
     "execution_count": 4,
     "metadata": {},
     "output_type": "execute_result"
    }
   ],
   "source": [
    "df.Name"
   ]
  },
  {
   "cell_type": "code",
   "execution_count": 5,
   "id": "de2e01b7-5026-408c-bdb4-466138c05b70",
   "metadata": {
    "execution": {
     "iopub.execute_input": "2023-06-17T16:35:23.406145Z",
     "iopub.status.busy": "2023-06-17T16:35:23.405858Z",
     "iopub.status.idle": "2023-06-17T16:35:23.412826Z",
     "shell.execute_reply": "2023-06-17T16:35:23.411322Z",
     "shell.execute_reply.started": "2023-06-17T16:35:23.406115Z"
    }
   },
   "outputs": [],
   "source": [
    "df['LastName'] = df.Name.apply(lambda x: x.split(',')[0])"
   ]
  },
  {
   "cell_type": "code",
   "execution_count": 6,
   "id": "d74607b0-e6b7-4f80-89a9-dc5dee5396f0",
   "metadata": {
    "execution": {
     "iopub.execute_input": "2023-06-17T16:35:23.414916Z",
     "iopub.status.busy": "2023-06-17T16:35:23.414690Z",
     "iopub.status.idle": "2023-06-17T16:35:23.422408Z",
     "shell.execute_reply": "2023-06-17T16:35:23.421748Z",
     "shell.execute_reply.started": "2023-06-17T16:35:23.414895Z"
    }
   },
   "outputs": [
    {
     "data": {
      "text/plain": [
       "0       Braund\n",
       "1      Cumings\n",
       "2    Heikkinen\n",
       "3     Futrelle\n",
       "4        Allen\n",
       "Name: LastName, dtype: object"
      ]
     },
     "execution_count": 6,
     "metadata": {},
     "output_type": "execute_result"
    }
   ],
   "source": [
    "df.LastName.head()"
   ]
  },
  {
   "cell_type": "code",
   "execution_count": 21,
   "id": "9377f21a-1dc3-4a08-84e7-245d08683f17",
   "metadata": {
    "execution": {
     "iopub.execute_input": "2023-06-17T16:42:53.753709Z",
     "iopub.status.busy": "2023-06-17T16:42:53.753349Z",
     "iopub.status.idle": "2023-06-17T16:42:53.767104Z",
     "shell.execute_reply": "2023-06-17T16:42:53.766188Z",
     "shell.execute_reply.started": "2023-06-17T16:42:53.753682Z"
    }
   },
   "outputs": [],
   "source": [
    "last_name_survival = df.groupby('LastName').agg({'PassengerId': 'count', 'Survived': 'sum'})\\\n",
    ".rename(columns={'PassengerId': 'LastNameCount', 'Survived':'LastNameSurvived'})\\\n",
    ".reset_index()\n",
    "\n",
    "df = df.merge(last_name_survival, on='LastName', how='left')"
   ]
  },
  {
   "cell_type": "code",
   "execution_count": null,
   "id": "6f009177-be4c-4a91-9899-c0229367d3d8",
   "metadata": {},
   "outputs": [],
   "source": []
  }
 ],
 "metadata": {
  "kernelspec": {
   "display_name": "Python 3 (ipykernel)",
   "language": "python",
   "name": "python3"
  },
  "language_info": {
   "codemirror_mode": {
    "name": "ipython",
    "version": 3
   },
   "file_extension": ".py",
   "mimetype": "text/x-python",
   "name": "python",
   "nbconvert_exporter": "python",
   "pygments_lexer": "ipython3",
   "version": "3.9.16"
  }
 },
 "nbformat": 4,
 "nbformat_minor": 5
}
